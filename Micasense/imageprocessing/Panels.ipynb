{
 "cells": [
  {
   "cell_type": "markdown",
   "metadata": {},
   "source": [
    "# Panels\n",
    "This notebook shows usage for the Panel class.  This type is useful for detecting MicaSense calibration panels and extracting information about the lambertian panel surface."
   ]
  },
  {
   "cell_type": "code",
   "execution_count": null,
   "metadata": {
    "scrolled": false
   },
   "outputs": [],
   "source": [
    "import os, glob\n",
    "from micasense.image import Image\n",
    "from micasense.panel import Panel\n",
    "%matplotlib inline\n",
    "\n",
    "imagePath = os.path.join('.','data','0000SET','000')\n",
    "imageName = glob.glob(os.path.join(imagePath,'IMG_0000_1.tif'))[0]\n",
    "\n",
    "img = Image(imageName)\n",
    "panel = Panel(img)\n",
    "\n",
    "if not panel.panel_detected():\n",
    "    raise IOError(\"Panel Not Detected!\")\n",
    "    \n",
    "print(\"Detected panel serial: {}\".format(panel.serial))\n",
    "mean, std, num, sat_count = panel.raw()\n",
    "print(\"Extracted Panel Statistics:\")\n",
    "print(\"Mean: {}\".format(mean))\n",
    "print(\"Standard Deviation: {}\".format(std))\n",
    "print(\"Panel Pixel Count: {}\".format(num))\n",
    "print(\"Saturated Pixel Count: {}\".format(sat_count))\n",
    "\n",
    "panel.plot();"
   ]
  },
  {
   "cell_type": "markdown",
   "metadata": {},
   "source": [
    "---\n",
    "Copyright (c) 2017-2018 MicaSense, Inc.  For licensing information see the [project git repository](https://github.com/micasense/imageprocessing)"
   ]
  }
 ],
 "metadata": {
  "kernelspec": {
   "display_name": "Python 3",
   "language": "python",
   "name": "python3"
  },
  "language_info": {
   "codemirror_mode": {
    "name": "ipython",
    "version": 3
   },
   "file_extension": ".py",
   "mimetype": "text/x-python",
   "name": "python",
   "nbconvert_exporter": "python",
   "pygments_lexer": "ipython3",
   "version": "3.6.5"
  },
  "toc": {
   "nav_menu": {},
   "number_sections": true,
   "sideBar": true,
   "skip_h1_title": false,
   "toc_cell": false,
   "toc_position": {},
   "toc_section_display": "block",
   "toc_window_display": false
  },
  "varInspector": {
   "cols": {
    "lenName": 16,
    "lenType": 16,
    "lenVar": 40
   },
   "kernels_config": {
    "python": {
     "delete_cmd_postfix": "",
     "delete_cmd_prefix": "del ",
     "library": "var_list.py",
     "varRefreshCmd": "print(var_dic_list())"
    },
    "r": {
     "delete_cmd_postfix": ") ",
     "delete_cmd_prefix": "rm(",
     "library": "var_list.r",
     "varRefreshCmd": "cat(var_dic_list()) "
    }
   },
   "types_to_exclude": [
    "module",
    "function",
    "builtin_function_or_method",
    "instance",
    "_Feature"
   ],
   "window_display": false
  }
 },
 "nbformat": 4,
 "nbformat_minor": 2
}
